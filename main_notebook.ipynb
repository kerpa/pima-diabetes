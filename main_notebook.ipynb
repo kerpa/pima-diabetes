{
 "cells": [
  {
   "cell_type": "code",
   "execution_count": 1,
   "metadata": {},
   "outputs": [],
   "source": [
    "import pandas as pd\n",
    "import seaborn as sns\n",
    "import numpy as np\n",
    "import matplotlib.pyplot as plt\n",
    "\n",
    "from sklearn.preprocessing import *\n",
    "from sklearn.utils import *\n",
    "from sklearn.model_selection import train_test_split\n",
    "from sklearn.metrics import *\n",
    "\n",
    "from tensorflow.keras import layers\n",
    "from tensorflow.keras.callbacks import EarlyStopping\n",
    "from tensorflow.keras.models import Sequential\n",
    "from tensorflow import keras"
   ]
  },
  {
   "cell_type": "markdown",
   "metadata": {},
   "source": [
    "# Pima Diabete Dataset from Kaggle\n",
    "\n",
    "Let's see if we are able to predict outcome for this data creating different models"
   ]
  },
  {
   "cell_type": "markdown",
   "metadata": {},
   "source": [
    "## Description of the data"
   ]
  },
  {
   "cell_type": "code",
   "execution_count": 2,
   "metadata": {},
   "outputs": [
    {
     "data": {
      "text/html": [
       "<div>\n",
       "<style scoped>\n",
       "    .dataframe tbody tr th:only-of-type {\n",
       "        vertical-align: middle;\n",
       "    }\n",
       "\n",
       "    .dataframe tbody tr th {\n",
       "        vertical-align: top;\n",
       "    }\n",
       "\n",
       "    .dataframe thead th {\n",
       "        text-align: right;\n",
       "    }\n",
       "</style>\n",
       "<table border=\"1\" class=\"dataframe\">\n",
       "  <thead>\n",
       "    <tr style=\"text-align: right;\">\n",
       "      <th></th>\n",
       "      <th>count</th>\n",
       "      <th>mean</th>\n",
       "      <th>std</th>\n",
       "      <th>min</th>\n",
       "      <th>25%</th>\n",
       "      <th>50%</th>\n",
       "      <th>75%</th>\n",
       "      <th>max</th>\n",
       "    </tr>\n",
       "  </thead>\n",
       "  <tbody>\n",
       "    <tr>\n",
       "      <th>Pregnancies</th>\n",
       "      <td>768.0</td>\n",
       "      <td>3.845052</td>\n",
       "      <td>3.369578</td>\n",
       "      <td>0.000</td>\n",
       "      <td>1.00000</td>\n",
       "      <td>3.0000</td>\n",
       "      <td>6.00000</td>\n",
       "      <td>17.00</td>\n",
       "    </tr>\n",
       "    <tr>\n",
       "      <th>Glucose</th>\n",
       "      <td>768.0</td>\n",
       "      <td>120.894531</td>\n",
       "      <td>31.972618</td>\n",
       "      <td>0.000</td>\n",
       "      <td>99.00000</td>\n",
       "      <td>117.0000</td>\n",
       "      <td>140.25000</td>\n",
       "      <td>199.00</td>\n",
       "    </tr>\n",
       "    <tr>\n",
       "      <th>BloodPressure</th>\n",
       "      <td>768.0</td>\n",
       "      <td>69.105469</td>\n",
       "      <td>19.355807</td>\n",
       "      <td>0.000</td>\n",
       "      <td>62.00000</td>\n",
       "      <td>72.0000</td>\n",
       "      <td>80.00000</td>\n",
       "      <td>122.00</td>\n",
       "    </tr>\n",
       "    <tr>\n",
       "      <th>SkinThickness</th>\n",
       "      <td>768.0</td>\n",
       "      <td>20.536458</td>\n",
       "      <td>15.952218</td>\n",
       "      <td>0.000</td>\n",
       "      <td>0.00000</td>\n",
       "      <td>23.0000</td>\n",
       "      <td>32.00000</td>\n",
       "      <td>99.00</td>\n",
       "    </tr>\n",
       "    <tr>\n",
       "      <th>Insulin</th>\n",
       "      <td>768.0</td>\n",
       "      <td>79.799479</td>\n",
       "      <td>115.244002</td>\n",
       "      <td>0.000</td>\n",
       "      <td>0.00000</td>\n",
       "      <td>30.5000</td>\n",
       "      <td>127.25000</td>\n",
       "      <td>846.00</td>\n",
       "    </tr>\n",
       "    <tr>\n",
       "      <th>BMI</th>\n",
       "      <td>768.0</td>\n",
       "      <td>31.992578</td>\n",
       "      <td>7.884160</td>\n",
       "      <td>0.000</td>\n",
       "      <td>27.30000</td>\n",
       "      <td>32.0000</td>\n",
       "      <td>36.60000</td>\n",
       "      <td>67.10</td>\n",
       "    </tr>\n",
       "    <tr>\n",
       "      <th>DiabetesPedigreeFunction</th>\n",
       "      <td>768.0</td>\n",
       "      <td>0.471876</td>\n",
       "      <td>0.331329</td>\n",
       "      <td>0.078</td>\n",
       "      <td>0.24375</td>\n",
       "      <td>0.3725</td>\n",
       "      <td>0.62625</td>\n",
       "      <td>2.42</td>\n",
       "    </tr>\n",
       "    <tr>\n",
       "      <th>Age</th>\n",
       "      <td>768.0</td>\n",
       "      <td>33.240885</td>\n",
       "      <td>11.760232</td>\n",
       "      <td>21.000</td>\n",
       "      <td>24.00000</td>\n",
       "      <td>29.0000</td>\n",
       "      <td>41.00000</td>\n",
       "      <td>81.00</td>\n",
       "    </tr>\n",
       "    <tr>\n",
       "      <th>Outcome</th>\n",
       "      <td>768.0</td>\n",
       "      <td>0.348958</td>\n",
       "      <td>0.476951</td>\n",
       "      <td>0.000</td>\n",
       "      <td>0.00000</td>\n",
       "      <td>0.0000</td>\n",
       "      <td>1.00000</td>\n",
       "      <td>1.00</td>\n",
       "    </tr>\n",
       "  </tbody>\n",
       "</table>\n",
       "</div>"
      ],
      "text/plain": [
       "                          count        mean         std     min       25%  \\\n",
       "Pregnancies               768.0    3.845052    3.369578   0.000   1.00000   \n",
       "Glucose                   768.0  120.894531   31.972618   0.000  99.00000   \n",
       "BloodPressure             768.0   69.105469   19.355807   0.000  62.00000   \n",
       "SkinThickness             768.0   20.536458   15.952218   0.000   0.00000   \n",
       "Insulin                   768.0   79.799479  115.244002   0.000   0.00000   \n",
       "BMI                       768.0   31.992578    7.884160   0.000  27.30000   \n",
       "DiabetesPedigreeFunction  768.0    0.471876    0.331329   0.078   0.24375   \n",
       "Age                       768.0   33.240885   11.760232  21.000  24.00000   \n",
       "Outcome                   768.0    0.348958    0.476951   0.000   0.00000   \n",
       "\n",
       "                               50%        75%     max  \n",
       "Pregnancies                 3.0000    6.00000   17.00  \n",
       "Glucose                   117.0000  140.25000  199.00  \n",
       "BloodPressure              72.0000   80.00000  122.00  \n",
       "SkinThickness              23.0000   32.00000   99.00  \n",
       "Insulin                    30.5000  127.25000  846.00  \n",
       "BMI                        32.0000   36.60000   67.10  \n",
       "DiabetesPedigreeFunction    0.3725    0.62625    2.42  \n",
       "Age                        29.0000   41.00000   81.00  \n",
       "Outcome                     0.0000    1.00000    1.00  "
      ]
     },
     "execution_count": 2,
     "metadata": {},
     "output_type": "execute_result"
    }
   ],
   "source": [
    "df = pd.read_csv('diabetes.csv')\n",
    "df = shuffle(df)\n",
    "df.describe().T"
   ]
  },
  {
   "cell_type": "code",
   "execution_count": 3,
   "metadata": {},
   "outputs": [
    {
     "name": "stdout",
     "output_type": "stream",
     "text": [
      "<class 'pandas.core.frame.DataFrame'>\n",
      "Int64Index: 768 entries, 203 to 586\n",
      "Data columns (total 9 columns):\n",
      " #   Column                    Non-Null Count  Dtype  \n",
      "---  ------                    --------------  -----  \n",
      " 0   Pregnancies               768 non-null    int64  \n",
      " 1   Glucose                   768 non-null    int64  \n",
      " 2   BloodPressure             768 non-null    int64  \n",
      " 3   SkinThickness             768 non-null    int64  \n",
      " 4   Insulin                   768 non-null    int64  \n",
      " 5   BMI                       768 non-null    float64\n",
      " 6   DiabetesPedigreeFunction  768 non-null    float64\n",
      " 7   Age                       768 non-null    int64  \n",
      " 8   Outcome                   768 non-null    int64  \n",
      "dtypes: float64(2), int64(7)\n",
      "memory usage: 60.0 KB\n"
     ]
    }
   ],
   "source": [
    "df.info()"
   ]
  },
  {
   "cell_type": "code",
   "execution_count": 4,
   "metadata": {},
   "outputs": [
    {
     "data": {
      "text/plain": [
       "<AxesSubplot:xlabel='Outcome', ylabel='count'>"
      ]
     },
     "execution_count": 4,
     "metadata": {},
     "output_type": "execute_result"
    },
    {
     "data": {
      "image/png": "[encoded data removed]",
      "text/plain": [
       "<Figure size 432x288 with 1 Axes>"
      ]
     },
     "metadata": {
      "needs_background": "light"
     },
     "output_type": "display_data"
    }
   ],
   "source": [
    "sns.countplot(x=df['Outcome'] ,data=df)"
   ]
  },
  {
   "cell_type": "code",
   "execution_count": 5,
   "metadata": {},
   "outputs": [
    {
     "data": {
      "text/plain": [
       "<AxesSubplot:>"
      ]
     },
     "execution_count": 5,
     "metadata": {},
     "output_type": "execute_result"
    },
    {
     "data": {
      "image/png": "[encoded data removed]",
      "text/plain": [
       "<Figure size 432x288 with 2 Axes>"
      ]
     },
     "metadata": {
      "needs_background": "light"
     },
     "output_type": "display_data"
    }
   ],
   "source": [
    "df_features = df.iloc[:,:-1]\n",
    "\n",
    "corr_features = df_features.corr()\n",
    "mask = np.triu(np.ones_like(corr_features))\n",
    "sns.heatmap(corr_features, annot=True, mask=mask)"
   ]
  },
  {
   "cell_type": "code",
   "execution_count": 6,
   "metadata": {},
   "outputs": [
    {
     "data": {
      "image/png": "[encoded data removed]",
      "text/plain": [
       "<Figure size 432x288 with 1 Axes>"
      ]
     },
     "metadata": {
      "needs_background": "light"
     },
     "output_type": "display_data"
    }
   ],
   "source": [
    "fig1, ax1 = plt.subplots()\n",
    "ax1.set_title('Multiple Samples with Different sizes')\n",
    "ax1.boxplot(df_features.iloc[:,:4],labels=df_features.columns[:4])\n",
    "plt.show()"
   ]
  },
  {
   "cell_type": "code",
   "execution_count": 7,
   "metadata": {},
   "outputs": [
    {
     "data": {
      "image/png": "[encoded data removed]",
      "text/plain": [
       "<Figure size 432x288 with 1 Axes>"
      ]
     },
     "metadata": {
      "needs_background": "light"
     },
     "output_type": "display_data"
    }
   ],
   "source": [
    "fig2, ax2 = plt.subplots()\n",
    "ax2.set_title('Multiple Samples with Different sizes')\n",
    "ax2.boxplot(df_features.iloc[:,4:],labels=df_features.columns[4:])\n",
    "plt.show()"
   ]
  },
  {
   "cell_type": "markdown",
   "metadata": {},
   "source": [
    "## Processing of the Data\n",
    "For using a in a DNN and reduce importance of outliers we should use a scaler and a transformer"
   ]
  },
  {
   "cell_type": "code",
   "execution_count": 8,
   "metadata": {},
   "outputs": [],
   "source": [
    "scaler = RobustScaler()\n",
    "\n",
    "X = df.iloc[:,:-1].values\n",
    "y = df.iloc[:,-1:].values\n",
    "\n",
    "X = scaler.fit_transform(X)\n",
    "\n",
    "X_train, X_test, y_train, y_test = train_test_split(X, y, test_size=0.33, random_state=42)"
   ]
  },
  {
   "cell_type": "markdown",
   "metadata": {},
   "source": [
    "## Classifier\n",
    "<br>\n",
    "The models used will be XGBoostClassifier, DNN classifier and K-means"
   ]
  },
  {
   "cell_type": "markdown",
   "metadata": {},
   "source": [
    "### XGBoost"
   ]
  },
  {
   "cell_type": "code",
   "execution_count": 9,
   "metadata": {},
   "outputs": [
    {
     "name": "stderr",
     "output_type": "stream",
     "text": [
      "/opt/miniconda3/envs/ML/lib/python3.9/site-packages/xgboost/compat.py:36: FutureWarning: pandas.Int64Index is deprecated and will be removed from pandas in a future version. Use pandas.Index with the appropriate dtype instead.\n",
      "  from pandas import MultiIndex, Int64Index\n"
     ]
    },
    {
     "name": "stdout",
     "output_type": "stream",
     "text": [
      "[11:15:47] WARNING: /Users/runner/miniforge3/conda-bld/xgboost-split_1645117948562/work/src/learner.cc:1115: Starting in XGBoost 1.3.0, the default evaluation metric used with the objective 'binary:logistic' was changed from 'error' to 'logloss'. Explicitly set eval_metric if you'd like to restore the old behavior.\n"
     ]
    },
    {
     "data": {
      "text/plain": [
       "XGBClassifier(base_score=0.5, booster='gbtree', colsample_bylevel=1,\n",
       "              colsample_bynode=1, colsample_bytree=1, enable_categorical=False,\n",
       "              gamma=0, gpu_id=-1, importance_type=None,\n",
       "              interaction_constraints='', learning_rate=0.300000012,\n",
       "              max_delta_step=0, max_depth=6, min_child_weight=1, missing=nan,\n",
       "              monotone_constraints='()', n_estimators=100, n_jobs=12,\n",
       "              num_parallel_tree=1, predictor='auto', random_state=0,\n",
       "              reg_alpha=0, reg_lambda=1, scale_pos_weight=1, subsample=1,\n",
       "              tree_method='exact', use_label_encoder=False,\n",
       "              validate_parameters=1, verbosity=None)"
      ]
     },
     "execution_count": 9,
     "metadata": {},
     "output_type": "execute_result"
    }
   ],
   "source": [
    "from xgboost import XGBClassifier\n",
    "\n",
    "model_xgb =  XGBClassifier(use_label_encoder=False)\n",
    "model_xgb.fit(X_train, y_train)"
   ]
  },
  {
   "cell_type": "code",
   "execution_count": 10,
   "metadata": {},
   "outputs": [
    {
     "name": "stdout",
     "output_type": "stream",
     "text": [
      "              precision    recall  f1-score   support\n",
      "\n",
      "           0       0.82      0.81      0.81       167\n",
      "           1       0.64      0.66      0.65        87\n",
      "\n",
      "    accuracy                           0.76       254\n",
      "   macro avg       0.73      0.73      0.73       254\n",
      "weighted avg       0.76      0.76      0.76       254\n",
      "\n"
     ]
    }
   ],
   "source": [
    "y_predic_xgb =  model_xgb.predict(X_test)\n",
    "print(classification_report(y_test, y_predic_xgb))"
   ]
  },
  {
   "cell_type": "markdown",
   "metadata": {},
   "source": [
    "### DNN"
   ]
  },
  {
   "cell_type": "code",
   "execution_count": 11,
   "metadata": {},
   "outputs": [
    {
     "name": "stderr",
     "output_type": "stream",
     "text": [
      "2022-06-09 11:15:48.298234: I tensorflow/core/platform/cpu_feature_guard.cc:193] This TensorFlow binary is optimized with oneAPI Deep Neural Network Library (oneDNN) to use the following CPU instructions in performance-critical operations:  AVX2 FMA\n",
      "To enable them in other operations, rebuild TensorFlow with the appropriate compiler flags.\n"
     ]
    }
   ],
   "source": [
    "ann = Sequential([\n",
    "  layers.Dense(units=8, activation='relu'),\n",
    "  layers.Dense(units=1, activation='sigmoid')\n",
    "])\n",
    "\n",
    "ann.compile(loss=keras.losses.BinaryCrossentropy(from_logits=True), optimizer='adam')"
   ]
  },
  {
   "cell_type": "code",
   "execution_count": 12,
   "metadata": {},
   "outputs": [
    {
     "name": "stdout",
     "output_type": "stream",
     "text": [
      "Epoch 1/200\n"
     ]
    },
    {
     "name": "stderr",
     "output_type": "stream",
     "text": [
      "/opt/miniconda3/envs/ML/lib/python3.9/site-packages/tensorflow/python/util/dispatch.py:1082: UserWarning: \"`binary_crossentropy` received `from_logits=True`, but the `output` argument was produced by a sigmoid or softmax activation and thus does not represent logits. Was this intended?\"\n",
      "  return dispatch_target(*args, **kwargs)\n"
     ]
    },
    {
     "name": "stdout",
     "output_type": "stream",
     "text": [
      "514/514 [==============================] - 1s 1ms/step - loss: 0.6614 - val_loss: 0.6004\n",
      "Epoch 2/200\n",
      "514/514 [==============================] - 1s 1ms/step - loss: 0.5715 - val_loss: 0.5316\n",
      "Epoch 3/200\n",
      "514/514 [==============================] - 1s 1ms/step - loss: 0.5254 - val_loss: 0.4937\n",
      "Epoch 4/200\n",
      "514/514 [==============================] - 1s 1ms/step - loss: 0.5026 - val_loss: 0.4769\n",
      "Epoch 5/200\n",
      "514/514 [==============================] - 1s 1ms/step - loss: 0.4909 - val_loss: 0.4704\n",
      "Epoch 6/200\n",
      "514/514 [==============================] - 1s 1ms/step - loss: 0.4860 - val_loss: 0.4624\n",
      "Epoch 7/200\n",
      "514/514 [==============================] - 1s 1ms/step - loss: 0.4807 - val_loss: 0.4566\n",
      "Epoch 8/200\n",
      "514/514 [==============================] - 1s 1ms/step - loss: 0.4781 - val_loss: 0.4563\n",
      "Epoch 9/200\n",
      "514/514 [==============================] - 1s 1ms/step - loss: 0.4765 - val_loss: 0.4523\n",
      "Epoch 10/200\n",
      "514/514 [==============================] - 1s 1ms/step - loss: 0.4745 - val_loss: 0.4512\n",
      "Epoch 11/200\n",
      "514/514 [==============================] - 1s 1ms/step - loss: 0.4728 - val_loss: 0.4505\n",
      "Epoch 12/200\n",
      "514/514 [==============================] - 1s 1ms/step - loss: 0.4716 - val_loss: 0.4500\n",
      "Epoch 13/200\n",
      "514/514 [==============================] - 1s 1ms/step - loss: 0.4699 - val_loss: 0.4505\n",
      "Epoch 14/200\n",
      "514/514 [==============================] - 1s 1ms/step - loss: 0.4690 - val_loss: 0.4503\n",
      "Epoch 15/200\n",
      "514/514 [==============================] - 1s 2ms/step - loss: 0.4680 - val_loss: 0.4498\n",
      "Epoch 16/200\n",
      "514/514 [==============================] - 1s 1ms/step - loss: 0.4663 - val_loss: 0.4483\n",
      "Epoch 17/200\n",
      "514/514 [==============================] - 1s 1ms/step - loss: 0.4659 - val_loss: 0.4484\n",
      "Epoch 18/200\n",
      "514/514 [==============================] - 1s 1ms/step - loss: 0.4647 - val_loss: 0.4484\n",
      "Epoch 19/200\n",
      "514/514 [==============================] - 1s 1ms/step - loss: 0.4630 - val_loss: 0.4480\n",
      "Epoch 20/200\n",
      "514/514 [==============================] - 1s 1ms/step - loss: 0.4642 - val_loss: 0.4474\n",
      "Epoch 21/200\n",
      "514/514 [==============================] - 1s 1ms/step - loss: 0.4630 - val_loss: 0.4473\n",
      "Epoch 22/200\n",
      "514/514 [==============================] - 1s 1ms/step - loss: 0.4628 - val_loss: 0.4478\n",
      "Epoch 23/200\n",
      "514/514 [==============================] - 1s 1ms/step - loss: 0.4614 - val_loss: 0.4470\n",
      "Epoch 24/200\n",
      "514/514 [==============================] - 1s 1ms/step - loss: 0.4610 - val_loss: 0.4480\n",
      "Epoch 25/200\n",
      "514/514 [==============================] - 1s 1ms/step - loss: 0.4601 - val_loss: 0.4474\n",
      "Epoch 26/200\n",
      "514/514 [==============================] - 1s 1ms/step - loss: 0.4597 - val_loss: 0.4480\n",
      "Epoch 27/200\n",
      "514/514 [==============================] - 1s 1ms/step - loss: 0.4591 - val_loss: 0.4466\n",
      "Epoch 28/200\n",
      "514/514 [==============================] - 1s 1ms/step - loss: 0.4582 - val_loss: 0.4474\n",
      "Epoch 29/200\n",
      "514/514 [==============================] - 1s 1ms/step - loss: 0.4572 - val_loss: 0.4467\n",
      "Epoch 30/200\n",
      "514/514 [==============================] - 1s 1ms/step - loss: 0.4568 - val_loss: 0.4460\n",
      "Epoch 31/200\n",
      "514/514 [==============================] - 1s 1ms/step - loss: 0.4564 - val_loss: 0.4468\n",
      "Epoch 32/200\n",
      "514/514 [==============================] - 1s 1ms/step - loss: 0.4558 - val_loss: 0.4452\n",
      "Epoch 33/200\n",
      "514/514 [==============================] - 1s 1ms/step - loss: 0.4553 - val_loss: 0.4448\n",
      "Epoch 34/200\n",
      "514/514 [==============================] - 1s 1ms/step - loss: 0.4547 - val_loss: 0.4445\n",
      "Epoch 35/200\n",
      "514/514 [==============================] - 1s 1ms/step - loss: 0.4543 - val_loss: 0.4449\n",
      "Epoch 36/200\n",
      "514/514 [==============================] - 1s 1ms/step - loss: 0.4549 - val_loss: 0.4445\n",
      "Epoch 37/200\n",
      "514/514 [==============================] - 1s 1ms/step - loss: 0.4542 - val_loss: 0.4430\n",
      "Epoch 38/200\n",
      "514/514 [==============================] - 1s 1ms/step - loss: 0.4528 - val_loss: 0.4441\n",
      "Epoch 39/200\n",
      "514/514 [==============================] - 1s 1ms/step - loss: 0.4525 - val_loss: 0.4422\n",
      "Epoch 40/200\n",
      "514/514 [==============================] - 1s 1ms/step - loss: 0.4532 - val_loss: 0.4427\n",
      "Epoch 41/200\n",
      "514/514 [==============================] - 1s 1ms/step - loss: 0.4521 - val_loss: 0.4420\n",
      "Epoch 42/200\n",
      "514/514 [==============================] - 1s 1ms/step - loss: 0.4514 - val_loss: 0.4424\n",
      "Epoch 43/200\n",
      "514/514 [==============================] - 1s 1ms/step - loss: 0.4505 - val_loss: 0.4452\n",
      "Epoch 44/200\n",
      "514/514 [==============================] - 1s 1ms/step - loss: 0.4507 - val_loss: 0.4418\n",
      "Epoch 45/200\n",
      "514/514 [==============================] - 1s 1ms/step - loss: 0.4506 - val_loss: 0.4412\n",
      "Epoch 46/200\n",
      "514/514 [==============================] - 1s 1ms/step - loss: 0.4502 - val_loss: 0.4413\n",
      "Epoch 47/200\n",
      "514/514 [==============================] - 1s 1ms/step - loss: 0.4500 - val_loss: 0.4416\n",
      "Epoch 48/200\n",
      "514/514 [==============================] - 1s 1ms/step - loss: 0.4497 - val_loss: 0.4411\n",
      "Epoch 49/200\n",
      "514/514 [==============================] - 1s 1ms/step - loss: 0.4488 - val_loss: 0.4413\n",
      "Epoch 50/200\n",
      "514/514 [==============================] - 1s 1ms/step - loss: 0.4480 - val_loss: 0.4401\n",
      "Epoch 51/200\n",
      "514/514 [==============================] - 1s 1ms/step - loss: 0.4480 - val_loss: 0.4398\n",
      "Epoch 52/200\n",
      "514/514 [==============================] - 1s 1ms/step - loss: 0.4489 - val_loss: 0.4391\n",
      "Epoch 53/200\n",
      "514/514 [==============================] - 1s 1ms/step - loss: 0.4469 - val_loss: 0.4401\n",
      "Epoch 54/200\n",
      "514/514 [==============================] - 1s 1ms/step - loss: 0.4486 - val_loss: 0.4397\n",
      "Epoch 55/200\n",
      "514/514 [==============================] - 1s 1ms/step - loss: 0.4468 - val_loss: 0.4409\n",
      "Epoch 56/200\n",
      "514/514 [==============================] - 1s 1ms/step - loss: 0.4456 - val_loss: 0.4391\n",
      "Epoch 57/200\n",
      "514/514 [==============================] - 1s 1ms/step - loss: 0.4463 - val_loss: 0.4386\n",
      "Epoch 58/200\n",
      "514/514 [==============================] - 1s 1ms/step - loss: 0.4454 - val_loss: 0.4404\n",
      "Epoch 59/200\n",
      "514/514 [==============================] - 1s 1ms/step - loss: 0.4455 - val_loss: 0.4380\n",
      "Epoch 60/200\n",
      "514/514 [==============================] - 1s 1ms/step - loss: 0.4452 - val_loss: 0.4393\n",
      "Epoch 61/200\n",
      "514/514 [==============================] - 1s 1ms/step - loss: 0.4441 - val_loss: 0.4404\n",
      "Epoch 62/200\n",
      "514/514 [==============================] - 1s 1ms/step - loss: 0.4447 - val_loss: 0.4397\n",
      "Epoch 63/200\n",
      "514/514 [==============================] - 1s 1ms/step - loss: 0.4440 - val_loss: 0.4390\n"
     ]
    },
    {
     "data": {
      "text/plain": [
       "<keras.callbacks.History at 0x7fcc41065640>"
      ]
     },
     "execution_count": 12,
     "metadata": {},
     "output_type": "execute_result"
    }
   ],
   "source": [
    "ann.fit(x=X_train, y=y_train, epochs=200, \n",
    "    batch_size=1,\n",
    "    validation_data=(X_test,y_test),\n",
    "    callbacks=EarlyStopping(monitor='val_loss',patience=4))"
   ]
  },
  {
   "cell_type": "code",
   "execution_count": 13,
   "metadata": {},
   "outputs": [
    {
     "data": {
      "text/plain": [
       "<AxesSubplot:>"
      ]
     },
     "execution_count": 13,
     "metadata": {},
     "output_type": "execute_result"
    },
    {
     "data": {
      "image/png": "[encoded data removed]",
      "text/plain": [
       "<Figure size 864x432 with 1 Axes>"
      ]
     },
     "metadata": {
      "needs_background": "light"
     },
     "output_type": "display_data"
    }
   ],
   "source": [
    "pd.DataFrame(ann.history.history).plot(figsize=(12,6))"
   ]
  },
  {
   "cell_type": "code",
   "execution_count": 14,
   "metadata": {},
   "outputs": [
    {
     "name": "stdout",
     "output_type": "stream",
     "text": [
      "8/8 [==============================] - 0s 1ms/step\n"
     ]
    }
   ],
   "source": [
    "y_predict_ann = ann.predict(X_test) > 0.5"
   ]
  },
  {
   "cell_type": "code",
   "execution_count": 15,
   "metadata": {},
   "outputs": [
    {
     "name": "stdout",
     "output_type": "stream",
     "text": [
      "              precision    recall  f1-score   support\n",
      "\n",
      "           0       0.82      0.90      0.85       167\n",
      "           1       0.76      0.61      0.68        87\n",
      "\n",
      "    accuracy                           0.80       254\n",
      "   macro avg       0.79      0.75      0.76       254\n",
      "weighted avg       0.80      0.80      0.79       254\n",
      "\n"
     ]
    }
   ],
   "source": [
    "print(classification_report(y_test,y_predict_ann))"
   ]
  }
 ],
 "metadata": {
  "interpreter": {
   "hash": "d55d083706a9c020f114bf1c514291b6a16f7df9c2c6a6da9b89d58e3afcb641"
  },
  "kernelspec": {
   "display_name": "Python 3.9.12 ('ML')",
   "language": "python",
   "name": "python3"
  },
  "language_info": {
   "codemirror_mode": {
    "name": "ipython",
    "version": 3
   },
   "file_extension": ".py",
   "mimetype": "text/x-python",
   "name": "python",
   "nbconvert_exporter": "python",
   "pygments_lexer": "ipython3",
   "version": "3.9.12"
  },
  "orig_nbformat": 4
 },
 "nbformat": 4,
 "nbformat_minor": 2
}
